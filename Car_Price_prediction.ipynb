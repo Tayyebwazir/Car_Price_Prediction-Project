{
  "nbformat": 4,
  "nbformat_minor": 0,
  "metadata": {
    "colab": {
      "provenance": []
    },
    "kernelspec": {
      "name": "python3",
      "display_name": "Python 3"
    },
    "language_info": {
      "name": "python"
    }
  },
  "cells": [
    {
      "cell_type": "markdown",
      "source": [
        "**importing the dependence**"
      ],
      "metadata": {
        "id": "zJb-kM7NwgJJ"
      }
    },
    {
      "cell_type": "code",
      "execution_count": 4,
      "metadata": {
        "id": "B1_XQsMswSwQ"
      },
      "outputs": [],
      "source": [
        "import pandas as pd\n",
        "import matplotlib.pyplot as plt\n",
        "import seaborn as sns\n",
        "from sklearn.model_selection import train_test_split\n",
        "from sklearn.linear_model import LinearRegression\n",
        "from sklearn.linear_model import Lasso\n",
        "from sklearn import metrics"
      ]
    },
    {
      "cell_type": "markdown",
      "source": [
        "**Data collection and processing**"
      ],
      "metadata": {
        "id": "nLceusb6yUVl"
      }
    },
    {
      "cell_type": "code",
      "source": [
        "car_dataset = pd.read_csv('/content/car data.csv')"
      ],
      "metadata": {
        "id": "DHNnzCBLyH6o"
      },
      "execution_count": 5,
      "outputs": []
    },
    {
      "cell_type": "code",
      "source": [
        "# print first five rows\n",
        "car_dataset.head()"
      ],
      "metadata": {
        "id": "7QHJb5omzVFZ"
      },
      "execution_count": null,
      "outputs": []
    },
    {
      "cell_type": "code",
      "source": [
        "# checking the cloumns and rows in the dataFrame\n",
        "car_dataset.shape"
      ],
      "metadata": {
        "colab": {
          "base_uri": "https://localhost:8080/"
        },
        "id": "U8bf8RXHzeb0",
        "outputId": "3e60484c-0a81-46ea-db2f-8b53370087d9"
      },
      "execution_count": 7,
      "outputs": [
        {
          "output_type": "execute_result",
          "data": {
            "text/plain": [
              "(301, 9)"
            ]
          },
          "metadata": {},
          "execution_count": 7
        }
      ]
    },
    {
      "cell_type": "code",
      "source": [
        "# getting some more information about the dataset\n",
        "car_dataset.info()"
      ],
      "metadata": {
        "id": "7NmY2tI-z5lp"
      },
      "execution_count": null,
      "outputs": []
    },
    {
      "cell_type": "code",
      "source": [
        "# checking the missing values\n",
        "car_dataset.isnull().sum()"
      ],
      "metadata": {
        "id": "YZkO4lFp0UDw"
      },
      "execution_count": null,
      "outputs": []
    },
    {
      "cell_type": "code",
      "source": [
        "# checking the distribution of categorical data\n",
        "print(car_dataset.Fuel_Type.value_counts())\n",
        "print(car_dataset.Seller_Type.value_counts())\n",
        "print(car_dataset.Transmission.value_counts())\n"
      ],
      "metadata": {
        "id": "Cr795kgk0lkA"
      },
      "execution_count": null,
      "outputs": []
    },
    {
      "cell_type": "markdown",
      "source": [
        "**Encoding the categorical data**"
      ],
      "metadata": {
        "id": "gsA9zGa62u0N"
      }
    },
    {
      "cell_type": "code",
      "source": [
        "# Encoding 'Fuel_types' Column\n",
        "car_dataset.replace({'Fuel_Type':{'Petrol':0, 'Diesel':1, 'CNG':2}},inplace=True)\n",
        "\n",
        "# Encoding 'Seller_Type' Column\n",
        "car_dataset.replace({'Seller_Type':{'Dealer':0, 'Individual':1}},inplace=True)\n",
        "\n",
        "# Encoding 'Transmisson' Column\n",
        "car_dataset.replace({'Transmission':{'Manual':0, 'Automatic':1}},inplace=True)\n",
        "\n"
      ],
      "metadata": {
        "id": "-vfo1aBh1wbK"
      },
      "execution_count": 17,
      "outputs": []
    },
    {
      "cell_type": "code",
      "source": [
        "car_dataset.head()"
      ],
      "metadata": {
        "id": "pmqB1CxZ5cqQ"
      },
      "execution_count": null,
      "outputs": []
    },
    {
      "cell_type": "markdown",
      "source": [
        "**Splitting the data and target**"
      ],
      "metadata": {
        "id": "KcJlO98O7MmF"
      }
    },
    {
      "cell_type": "code",
      "source": [
        "x = car_dataset.drop(['Car_Name', 'Selling_Price'],axis =1)\n",
        "y = car_dataset['Selling_Price']"
      ],
      "metadata": {
        "id": "yLZSFU1J5hEn"
      },
      "execution_count": 19,
      "outputs": []
    },
    {
      "cell_type": "code",
      "source": [
        "print(x)"
      ],
      "metadata": {
        "id": "Kxs_1PT88Job"
      },
      "execution_count": null,
      "outputs": []
    },
    {
      "cell_type": "code",
      "source": [
        "print(y)"
      ],
      "metadata": {
        "id": "0iRCjDi-8Mke"
      },
      "execution_count": null,
      "outputs": []
    },
    {
      "cell_type": "markdown",
      "source": [
        "**Splitting the data  into training and test data**"
      ],
      "metadata": {
        "id": "rhSHWTGe9pcJ"
      }
    },
    {
      "cell_type": "code",
      "source": [
        "x_train, x_test, y_train, y_test = train_test_split(x, y, test_size=.1, random_state=2)\n"
      ],
      "metadata": {
        "id": "3WLiViPC8RUE"
      },
      "execution_count": 22,
      "outputs": []
    },
    {
      "cell_type": "markdown",
      "source": [
        "**Model training**"
      ],
      "metadata": {
        "id": "zRhbr5r2_2_a"
      }
    },
    {
      "cell_type": "markdown",
      "source": [
        "1.Linear Regression"
      ],
      "metadata": {
        "id": "DoxJigqj_7Yn"
      }
    },
    {
      "cell_type": "code",
      "source": [
        "lin_reg_model = LinearRegression()"
      ],
      "metadata": {
        "id": "0ljsSi2A_yqZ"
      },
      "execution_count": 33,
      "outputs": []
    },
    {
      "cell_type": "code",
      "source": [
        "lin_reg_model.fit(x_train, y_train)"
      ],
      "metadata": {
        "id": "xFG8_pMsAM0Y"
      },
      "execution_count": null,
      "outputs": []
    },
    {
      "cell_type": "markdown",
      "source": [
        "**Model Evaluation**"
      ],
      "metadata": {
        "id": "OFMp5L-cAfVr"
      }
    },
    {
      "cell_type": "code",
      "source": [
        "# predict on training data\n",
        "training_data_prediction  = lin_reg_model.predict(x_train)"
      ],
      "metadata": {
        "id": "MLRwm9ZrAad8"
      },
      "execution_count": 25,
      "outputs": []
    },
    {
      "cell_type": "code",
      "source": [
        "# R squared error\n",
        "error_score = metrics.r2_score(y_train, training_data_prediction)\n",
        "print(\"R Squared Error :\",error_score)"
      ],
      "metadata": {
        "id": "i65TadVOAxk2"
      },
      "execution_count": null,
      "outputs": []
    },
    {
      "cell_type": "markdown",
      "source": [
        "**Visualize the actual price and predicted**"
      ],
      "metadata": {
        "id": "EbFmOsTaBv7y"
      }
    },
    {
      "cell_type": "code",
      "source": [
        "plt.scatter(y_train, training_data_prediction)\n",
        "plt.xlabel(\"Actual Price\")\n",
        "plt.ylabel(\"Predicted Price\")\n",
        "plt.title(\"Actual price vs Predicted prices\")\n",
        "plt.show()"
      ],
      "metadata": {
        "id": "h_2zoOVIBm8p"
      },
      "execution_count": null,
      "outputs": []
    },
    {
      "cell_type": "code",
      "source": [
        "# predict on training data\n",
        "test_data_prediction  = lin_reg_model.predict(x_test)"
      ],
      "metadata": {
        "id": "Who6L-bKEhrl"
      },
      "execution_count": 30,
      "outputs": []
    },
    {
      "cell_type": "code",
      "source": [
        "# R squared error\n",
        "error_score = metrics.r2_score(y_test, test_data_prediction)\n",
        "print(\"R Squared Error :\",error_score)"
      ],
      "metadata": {
        "id": "LDbM7J5lES5m"
      },
      "execution_count": null,
      "outputs": []
    },
    {
      "cell_type": "code",
      "source": [
        "plt.scatter(y_test, test_data_prediction)\n",
        "plt.xlabel(\"Actual Price\")\n",
        "plt.ylabel(\"Predicted Price\")\n",
        "plt.title(\"Actual price vs Predicted prices\")\n",
        "plt.show()"
      ],
      "metadata": {
        "id": "2n8AFcrgJVhv"
      },
      "execution_count": null,
      "outputs": []
    },
    {
      "cell_type": "code",
      "source": [],
      "metadata": {
        "id": "Bwg4L_FeCnYv"
      },
      "execution_count": null,
      "outputs": []
    }
  ]
}